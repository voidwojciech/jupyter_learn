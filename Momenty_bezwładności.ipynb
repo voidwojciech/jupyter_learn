{
 "cells": [
  {
   "cell_type": "code",
   "execution_count": 5,
   "metadata": {},
   "outputs": [
    {
     "data": {
      "text/html": [
       "<script>\n",
       "code_show=true; \n",
       "function code_toggle() {\n",
       " if (code_show){\n",
       " $('div.input').hide();\n",
       " } else {\n",
       " $('div.input').show();\n",
       " }\n",
       " code_show = !code_show\n",
       "} \n",
       "$( document ).ready(code_toggle);\n",
       "</script>\n",
       "The raw code for this IPython notebook is by default hidden for easier reading.\n",
       "To toggle on/off the raw code, click <a href=\"javascript:code_toggle()\">here</a>."
      ],
      "text/plain": [
       "<IPython.core.display.HTML object>"
      ]
     },
     "execution_count": 5,
     "metadata": {},
     "output_type": "execute_result"
    }
   ],
   "source": [
    "from IPython.display import HTML\n",
    "from IPython.display import Markdown\n",
    "\n",
    "HTML('''<script>\n",
    "code_show=true; \n",
    "function code_toggle() {\n",
    " if (code_show){\n",
    " $('div.input').hide();\n",
    " } else {\n",
    " $('div.input').show();\n",
    " }\n",
    " code_show = !code_show\n",
    "} \n",
    "$( document ).ready(code_toggle);\n",
    "</script>\n",
    "The raw code for this IPython notebook is by default hidden for easier reading.\n",
    "To toggle on/off the raw code, click <a href=\"javascript:code_toggle()\">here</a>.''')\n",
    "\n"
   ]
  },
  {
   "cell_type": "code",
   "execution_count": 6,
   "metadata": {},
   "outputs": [
    {
     "data": {
      "text/markdown": [
       "Code snippet to hide input cells taken from: http://blog.nextgenetics.net/?e=102"
      ],
      "text/plain": [
       "<IPython.core.display.Markdown object>"
      ]
     },
     "execution_count": 6,
     "metadata": {},
     "output_type": "execute_result"
    }
   ],
   "source": [
    "Markdown(\"Code snippet to hide input cells taken from: http://blog.nextgenetics.net/?e=102\")"
   ]
  },
  {
   "cell_type": "markdown",
   "metadata": {},
   "source": [
    "# Nagłówek 1\n",
    "## Nagłówek 2\n",
    "### Nagłówek 3\n",
    "Zwykły tekst: Lorem ipsum dolor sit amet, 'consectetur()' adipiscing elit, sed do eiusmod tempor incididunt ut labore et dolore magna aliqua. Ut enim ad minim veniam, quis nostrud exercitation ullamco laboris nisi ut aliquip ex ea commodo consequat. Duis aute irure dolor in reprehenderit in voluptate velit esse cillum dolore eu fugiat nulla pariatur. Excepteur sint occaecat cupidatat non proident, sunt in culpa qui officia deserunt mollit anim id est laborum.\n",
    "\n",
    "> Bla bla bla *bla bla* **bla** <br>\n",
    "Bla bla <br>\n",
    "Bla\n",
    "\n",
    "Przydatne linki i źródła:\n",
    "\n",
    "Do you know [**Binder**](https://mybinder.org/), right? `ipynb`\n",
    "\n",
    "http://nbviewer.jupyter.org/\n",
    "\n",
    "http://nbviewer.jupyter.org/github/waltherg/notebooks/blob/master/2013-12-03-Crank_Nicolson.ipynb\n"
   ]
  },
  {
   "cell_type": "code",
   "execution_count": 2,
   "metadata": {},
   "outputs": [],
   "source": [
    "enee=2"
   ]
  },
  {
   "cell_type": "code",
   "execution_count": 3,
   "metadata": {},
   "outputs": [
    {
     "data": {
      "text/plain": [
       "'\\n{\\n  \"trusted\": false,\\n  \"collapsed\": true\\n}\\n'"
      ]
     },
     "execution_count": 3,
     "metadata": {},
     "output_type": "execute_result"
    }
   ],
   "source": [
    "# collapsed input using following metadata:\n",
    "\n",
    "\"\"\"\n",
    "{\n",
    "  \"trusted\": false,\n",
    "  \"collapsed\": true\n",
    "}\n",
    "\"\"\""
   ]
  },
  {
   "cell_type": "code",
   "execution_count": 4,
   "metadata": {},
   "outputs": [
    {
     "data": {
      "text/markdown": [
       "Here is a simple addition example: 2 + 2 = 3"
      ],
      "text/plain": [
       "<IPython.core.display.Markdown object>"
      ]
     },
     "execution_count": 4,
     "metadata": {},
     "output_type": "execute_result"
    }
   ],
   "source": [
    "from IPython.display import Markdown\n",
    "\n",
    "one = 1\n",
    "two = 2\n",
    "three = one + two\n",
    "\n",
    "Markdown(\"\"\"Here is a simple addition example: {one} + {two} = {three}\"\"\".format(one=enee, two=two, three=three))"
   ]
  },
  {
   "cell_type": "code",
   "execution_count": 5,
   "metadata": {
    "solution2": "hidden"
   },
   "outputs": [],
   "source": [
    "a = 15"
   ]
  },
  {
   "cell_type": "code",
   "execution_count": 6,
   "metadata": {},
   "outputs": [
    {
     "data": {
      "text/latex": [
       "\\begin{align}\n",
       "& I_{ygl} = \\frac{I_{y0} + I_{z0}}{2} + \\frac{I_{y0} - I_{z0}}{2} \\cdot \\cos \\left({{2 \\alpha_{gl}}}\\right)\n",
       "             - I_{y0z0} \\cdot \\sin \\left({{2 \\alpha_{gl}}}\\right) \\\\\n",
       "& I_{zgl} = \\frac{I_{y0} + I_{z0}}{2} - \\frac{I_{y0} - I_{z0}}{2} \\cdot \\cos \\left({{2 \\alpha_{gl}}}\\right) + I_{y0z0} \\cdot \\sin \\left({{2 \\alpha_{gl}}}\\right) \\\\\n",
       "& tan {\\left({{2 \\alpha_{gl}}}\\right)} = \\frac{-2 \\cdot I_{y0z0}} {I_{y0} - I_{z0}} \\\\\n",
       "\\\\\n",
       "\\\\\n",
       "aaaaaaa & = b \\\\\n",
       "aa & = b \\\\\n",
       "\\\\\n",
       "\\\\\n",
       "\\end{align}\n",
       "\n",
       "\n",
       "\n",
       "\\begin{gather}\n",
       "I_{ygl} = \\frac{I_{y0} + I_{z0}}{2} + \\frac{I_{y0} - I_{z0}}{2} \\cdot \\cos \\left({{2 \\alpha_{gl}}}\\right)\n",
       "             - I_{y0z0} \\cdot \\sin \\left({{2 \\alpha_{gl}}}\\right) \\\\\n",
       "I_{zgl} = \\frac{I_{y0} + I_{z0}}{2} - \\frac{I_{y0} - I_{z0}}{2} \\cdot \\cos \\left({{2 \\alpha_{gl}}}\\right) + I_{y0z0} \\cdot \\sin \\left({{2 \\alpha_{gl}}}\\right) \\\\\n",
       "tan {\\left({{2 \\alpha_{gl}}}\\right)} = \\frac{-2 \\cdot I_{y0z0}} {I_{y0} - I_{z0}} \\\\\n",
       "aaaaaaa = b \\\\\n",
       "aaaaaaa = b \\\\\n",
       "aaaa = b \\\\\n",
       "\\end{gather}"
      ],
      "text/plain": [
       "<IPython.core.display.Latex object>"
      ]
     },
     "metadata": {},
     "output_type": "display_data"
    }
   ],
   "source": [
    "%%latex\n",
    "\\begin{align}\n",
    "& I_{ygl} = \\frac{I_{y0} + I_{z0}}{2} + \\frac{I_{y0} - I_{z0}}{2} \\cdot \\cos \\left({{2 \\alpha_{gl}}}\\right)\n",
    "             - I_{y0z0} \\cdot \\sin \\left({{2 \\alpha_{gl}}}\\right) \\\\\n",
    "& I_{zgl} = \\frac{I_{y0} + I_{z0}}{2} - \\frac{I_{y0} - I_{z0}}{2} \\cdot \\cos \\left({{2 \\alpha_{gl}}}\\right) + I_{y0z0} \\cdot \\sin \\left({{2 \\alpha_{gl}}}\\right) \\\\\n",
    "& tan {\\left({{2 \\alpha_{gl}}}\\right)} = \\frac{-2 \\cdot I_{y0z0}} {I_{y0} - I_{z0}} \\\\\n",
    "\\\\\n",
    "\\\\\n",
    "aaaaaaa & = b \\\\\n",
    "aa & = b \\\\\n",
    "\\\\\n",
    "\\\\\n",
    "\\end{align}\n",
    "\n",
    "\n",
    "\n",
    "\\begin{gather}\n",
    "I_{ygl} = \\frac{I_{y0} + I_{z0}}{2} + \\frac{I_{y0} - I_{z0}}{2} \\cdot \\cos \\left({{2 \\alpha_{gl}}}\\right)\n",
    "             - I_{y0z0} \\cdot \\sin \\left({{2 \\alpha_{gl}}}\\right) \\\\\n",
    "I_{zgl} = \\frac{I_{y0} + I_{z0}}{2} - \\frac{I_{y0} - I_{z0}}{2} \\cdot \\cos \\left({{2 \\alpha_{gl}}}\\right) + I_{y0z0} \\cdot \\sin \\left({{2 \\alpha_{gl}}}\\right) \\\\\n",
    "tan {\\left({{2 \\alpha_{gl}}}\\right)} = \\frac{-2 \\cdot I_{y0z0}} {I_{y0} - I_{z0}} \\\\\n",
    "aaaaaaa = b \\\\\n",
    "aaaaaaa = b \\\\\n",
    "aaaa = b \\\\\n",
    "\\end{gather}"
   ]
  },
  {
   "cell_type": "code",
   "execution_count": 7,
   "metadata": {},
   "outputs": [
    {
     "data": {
      "text/latex": [
       "\\begin{equation*}\n",
       "\\left( \\sum_{k=1}^n a_k b_k \\right)^2 \\leq \\left( \\sum_{k=1}^n a_k^2 \\right) \\left( \\sum_{k=1}^n b_k^2 \\right)\n",
       "\\end{equation*}"
      ],
      "text/plain": [
       "<IPython.core.display.Latex object>"
      ]
     },
     "metadata": {},
     "output_type": "display_data"
    }
   ],
   "source": [
    "%%latex\n",
    "\\begin{equation*}\n",
    "\\left( \\sum_{k=1}^n a_k b_k \\right)^2 \\leq \\left( \\sum_{k=1}^n a_k^2 \\right) \\left( \\sum_{k=1}^n b_k^2 \\right)\n",
    "\\end{equation*}"
   ]
  },
  {
   "cell_type": "code",
   "execution_count": 8,
   "metadata": {},
   "outputs": [
    {
     "name": "stdout",
     "output_type": "stream",
     "text": [
      "kąt alfa_główny = -0.24537 rad, czyli -14.06 stopni\n",
      "I_y_główne = 18960.6 cm^4\n",
      "I_z_główne = 5393.4 cm^4\n",
      "(18960.590347161207, 5393.4096528387918, 0.043603661704764818)\n",
      "18960.5903472\n"
     ]
    },
    {
     "data": {
      "text/plain": [
       "<matplotlib.figure.Figure at 0x733d8f0>"
      ]
     },
     "metadata": {},
     "output_type": "display_data"
    }
   ],
   "source": [
    "import numpy as np\n",
    "import matplotlib.pyplot as plt\n",
    "\n",
    "\n",
    "Iy0 = 18160\n",
    "Iz0 = 6194\n",
    "Iy0z0 = 3197\n",
    "\n",
    "\n",
    "alfa_gl = np.arctan((-2 * Iy0z0) / (Iy0 - Iz0)) / 2\n",
    "print(\"kąt alfa_główny = %.5f rad, czyli %.2f stopni\" % (alfa_gl, np.degrees(alfa_gl)))\n",
    "\n",
    "Iygl = (Iy0 + Iz0) / 2 + (Iy0 - Iz0) / 2 * np.cos(2 * alfa_gl) - Iy0z0 * np.sin(2 * alfa_gl)\n",
    "print(\"I_y_główne = %.1f cm^4\" % Iygl)\n",
    "Izgl = (Iy0 + Iz0) / 2 - (Iy0 - Iz0) / 2 * np.cos(2 * alfa_gl) + Iy0z0 * np.sin(2 * alfa_gl)\n",
    "print(\"I_z_główne = %.1f cm^4\" % Izgl)\n",
    "\n",
    "def I_func(Iy0, Iz0, Iy0z0, alfa):\n",
    "    Iy = (Iy0 + Iz0) / 2 + (Iy0 - Iz0) / 2 * np.cos(2 * alfa) - Iy0z0 * np.sin(2 * alfa)\n",
    "    Iz = (Iy0 + Iz0) / 2 - (Iy0 - Iz0) / 2 * np.cos(2 * alfa) + Iy0z0 * np.sin(2 * alfa)\n",
    "    Iyz = (Iy0 - Iz0) / 2 * np.sin(2 * alfa) + Iy0z0 * np.cos(2 * alfa)\n",
    "    return Iy, Iz, Iyz\n",
    "\n",
    "\n",
    "t = np.arange(0., 360.1, 0.5)\n",
    "#print(t)\n",
    "\n",
    "print(I_func(18160, 6194, 3197, -0.24537))\n",
    "a = I_func(18160, 6194, 3197, -0.24537)[0]\n",
    "print(a)\n",
    "\n",
    "\n",
    "# WYKRES\n",
    "max_x = 360\n",
    "plt.figure(1)\n",
    "plt.subplot(211)  # (numrows, numcols, fignum) where fignum ranges from 1 to numrows*numcols\n",
    "plt.plot(t, I_func(Iy0, Iz0, Iy0z0, np.radians(t))[0], t, I_func(Iy0, Iz0, Iy0z0, np.radians(t))[1])\n",
    "#\n",
    "plt.ylabel('moment moment bezwładności (cm^4)')\n",
    "plt.xlim(xmax=max_x)\n",
    "plt.ylim(ymin=0)\n",
    "plt.xticks(np.arange(min(t), max(t)+1, 60.0))  # ticks every 60 degrees\n",
    "#\n",
    "#\n",
    "plt.subplot(212)\n",
    "plt.plot(t, I_func(Iy0, Iz0, Iy0z0, np.radians(t))[2])\n",
    "plt.plot([0, 360], [0, 0])\n",
    "#\n",
    "plt.xlabel('Kąt obrotu układu osi y0-z0')\n",
    "plt.ylabel('dewiacyjny moment bezwładności (cm^4)')\n",
    "plt.xlim(xmax=max_x)\n",
    "plt.xticks(np.arange(min(t), max(t)+1, 60.0))\n",
    "#\n",
    "#\n",
    "plt.title('Tytuł wykresu')\n",
    "plt.show()"
   ]
  },
  {
   "cell_type": "code",
   "execution_count": 9,
   "metadata": {},
   "outputs": [
    {
     "name": "stdout",
     "output_type": "stream",
     "text": [
      "14\n"
     ]
    }
   ],
   "source": [
    "from example import addd\n",
    "addd(12)"
   ]
  },
  {
   "cell_type": "markdown",
   "metadata": {},
   "source": [
    "## Import functions in python file located in the same directory:\n",
    "First execute to %run line"
   ]
  },
  {
   "cell_type": "code",
   "execution_count": 10,
   "metadata": {},
   "outputs": [],
   "source": [
    "%run example.py"
   ]
  },
  {
   "cell_type": "code",
   "execution_count": 11,
   "metadata": {},
   "outputs": [
    {
     "name": "stdout",
     "output_type": "stream",
     "text": [
      "17\n"
     ]
    }
   ],
   "source": [
    "addd(15)"
   ]
  },
  {
   "cell_type": "markdown",
   "metadata": {},
   "source": [
    "## Import functions in python file located in the same directory:\n",
    "First execute to %run line"
   ]
  },
  {
   "cell_type": "code",
   "execution_count": 12,
   "metadata": {},
   "outputs": [
    {
     "name": "stdout",
     "output_type": "stream",
     "text": [
      "Steel emissivity equal to 0.7. Open \"heat.py\" to change.\n"
     ]
    }
   ],
   "source": [
    "%run database_profiles.py\n",
    "%run heat.py\n",
    "%run material_prop.py"
   ]
  },
  {
   "cell_type": "code",
   "execution_count": 13,
   "metadata": {},
   "outputs": [
    {
     "name": "stdout",
     "output_type": "stream",
     "text": [
      "Steel emissivity equal to 0.7. Open \"heat.py\" to change.\n",
      "HE 200 A\n",
      "shadow effect!\n",
      "Selected profile: HE 200 A\n",
      "Its Am/V ratio is: 211.0\n",
      "Its Am/V (box) ratio is: 145.0\n",
      "k_sh = : 0.618\n",
      "Data taken from Arcelor Mittal\n",
      "\n",
      "Time: 0.0s | Gas temp: 20.0 degC | Element temp: 20.0 degC\n",
      "Time: 5.0s | Gas temp: 96.5 degC | Element temp: 20.4 degC\n",
      "Time: 10.0s | Gas temp: 147.0 degC | Element temp: 21.2 degC\n",
      ".\n",
      ".\n",
      ".\n",
      ".\n",
      ".\n",
      "Time: 1785.0s | Gas temp: 840.5 degC | Element temp: 800.3 degC\n",
      "Time: 1790.0s | Gas temp: 841.0 degC | Element temp: 801.2 degC\n",
      "Time: 1795.0s | Gas temp: 841.4 degC | Element temp: 802.2 degC\n",
      "Time: 1800.0s | Gas temp: 841.8 degC | Element temp: 803.2 degC\n",
      "\n",
      "Temperatura przekroju HE 200 A po 1800.0s (30.0 minut): 803.2 stopni Celsjusza\n"
     ]
    },
    {
     "data": {
      "image/png": "[encoded data removed]",
      "text/plain": [
       "<matplotlib.figure.Figure at 0x73a9a90>"
      ]
     },
     "metadata": {},
     "output_type": "display_data"
    }
   ],
   "source": [
    "# -*- coding: utf-8 -*-\n",
    "\"\"\"\n",
    "Obliczanie temperatury elmentow stalowych zgodnie z PN EN 1993-1-2\n",
    "UWAGA: emisyjnosc stali ustawic w module heat.py\n",
    "       \"em_steel = 0.8\" lub \"em_steel = 0.7\"\n",
    "\n",
    "Projekt w fazie realizacji\n",
    "Mozna dodawac nowe profile w \"database_profiles.py\": skladnia: 'NAZWA (np. HEB200)': [Am/V, Am/V(box)]\n",
    "lub recznie wpisac wartosci w liniach AmV oraz AmVb\n",
    "Nazwy profili w bazie zgodne z Arcelor Mittal\n",
    "http://sections.arcelormittal.com/products-services/products-ranges.html\n",
    "np. z serii IPE 180:\n",
    "IPE AA 180, IPE A 180, IPE 180, IPE O 180\n",
    "z serii HE 200:\n",
    "HE 200 AA, HE 200 A, HE 200 B, HE 200 C, HE 200 M\n",
    "\n",
    "Z uwagi na pewne niedociągnięcia serwisu, ktorego uzywam do trzymania skryptu skrypt w wersji on-line jest daleki od idealu.\n",
    "- kiepska jakos wykresu (wiele nieobslugiwanych funkcji, chocby grid)\n",
    "- brak wsparcia python3 w wersji darmowej\n",
    "- dostepnosc tylko wybranych modulow\n",
    "\"\"\"\n",
    "# Ustawiane przez uzytkownika:\n",
    "profile_type = 'dwuteownik'  # 'dwuteownik' lub 'rura'\n",
    "profile_name = 'HE 200 A'  # wypelnic jesli dwuteownik / patrz opis wyzej. Symbole jak w database_profiles\n",
    "grubosc_scianki_rury = 6.0  # wypelnic jesli rura\n",
    "czas_analizy = 1800  # czas analizy w sekundach\n",
    "# czy drukowac na koncu liste czas-temperatura:\n",
    "drukuj = 'nie'  # 'tak lub cokolwiek innego'\n",
    "ekspozycja = 'ISO-834'\n",
    "# mozliwe ekspozycje: 'ISO-834', 'LP', 'ISO-834-1800-dacay-1800'\n",
    "\n",
    "#####################################\n",
    "# Koniec ustawien uzytkownika\n",
    "# Ponizej nie trzeba niczego zmieniac\n",
    "#####################################\n",
    "from math import log10\n",
    "import numpy as np\n",
    "import database_profiles as dp\n",
    "import material_prop as mp\n",
    "#import interpolate_mine as interp\n",
    "import heat\n",
    "\n",
    "\n",
    "    \n",
    "if profile_type == 'dwuteownik':\n",
    "    AmV = dp.data_miner(profile_name)[3]\n",
    "    AmVb = dp.data_miner(profile_name)[5]\n",
    "    print(profile_name)\n",
    "    one_sided_list = ['HEB200-1', 'HEA200-1', 'HEA200-1-simplified',\n",
    "                      'HE_300_simplified', 'HE_300_accurate',\n",
    "                      'IPE_200_simplified', 'IPE_200_accurate']\n",
    "    if profile_name in one_sided_list:\n",
    "        k_sh = AmVb / AmV\n",
    "        print('one side!')\n",
    "    else:\n",
    "        k_sh = 0.9 * AmVb / AmV\n",
    "        print('shadow effect!')\n",
    "    #\n",
    "    print(\"Selected profile: %s\" % profile_name)\n",
    "    print(\"Its Am/V ratio is: %.1f\" % AmV)\n",
    "    print(\"Its Am/V (box) ratio is: %.1f\" % AmVb)\n",
    "    print(\"k_sh = : %.3f\" % k_sh)\n",
    "    print(\"Data taken from Arcelor Mittal\\n\")\n",
    "elif profile_type == 'rura':\n",
    "    AmV = 1.0 / (grubosc_scianki_rury / 1000.)\n",
    "    k_sh = 1.0\n",
    "    print(\"Selected profile: tube with t = %.1f\\n\" % grubosc_scianki_rury)\n",
    "\n",
    "\n",
    "temp_steel = 20\n",
    "dtime = 5\n",
    "\n",
    "def print_output():\n",
    "    print(\"Time: %.1fs |\" % time,\n",
    "          \"Gas temp: %.1f degC |\" % temp,\n",
    "          \"Element temp: %.1f degC\" % temp_steel)\n",
    "\n",
    "def gas_temp(ekspozycja, time):\n",
    "    if ekspozycja == 'ISO-834':\n",
    "        temp = 20 + 345 * log10(8 * (time / 60.0) + 1)\n",
    "    elif ekspozycja == 'LP':\n",
    "        a = [0.0, 238.9, 316.0, 396.7, 499.4, 598.3, 697.0, 795.7, 850.9, 894.9, 946.1, 1044.8, 1099.5, 1146.8, 1194.1, 1245.1, 1333.2, 1439.7, 1494.7, 1590.4, 1697.0, 1800.1, 1892.2, 1965.7, 2090.7]\n",
    "        b = [20.0, 20.0, 27.9, 53.1, 103.2, 169.2, 253.3, 348.7, 348.9, 362.6, 403.5, 505.8, 571.7, 653.4, 748.7, 814.6, 851.1, 860.4, 881.0, 863.0, 867.8, 838.6, 818.4, 811.7, 821.1]\n",
    "        print(time)        \n",
    "        temp = interp.void_interpolate(time, a, b)\n",
    "    elif ekspozycja == 'ISO-834-1800-dacay-1800':\n",
    "        decay_start = 1800\n",
    "        decay_end = decay_start + 1800\n",
    "        max_temp = 20 + 345 * log10(8 * (decay_start / 60.0) + 1)\n",
    "        if time <= 1800:\n",
    "            temp = 20 + 345 * log10(8 * (time / 60.0) + 1)\n",
    "        else:\n",
    "            # temp = 20  # testing\n",
    "            if time < decay_end:\n",
    "                procent = (time - decay_start) / (decay_end - decay_start)\n",
    "                temp = max_temp - procent * (max_temp - 20)\n",
    "            else:\n",
    "                temp = 20\n",
    "    return temp\n",
    "\n",
    "time_list = []\n",
    "steelTemp_list = []\n",
    "time_steelTemp_list = []\n",
    "\n",
    "for time in range(0, czas_analizy + 1, dtime):\n",
    "    temp = gas_temp(ekspozycja, time)\n",
    "    h_net = heat.HF_conv(temp, temp_steel) + heat.HF_rad(temp, temp_steel)\n",
    "    dtemp = k_sh * (AmV / (mp.steel_sh(temp_steel) * 7850)) * h_net * dtime\n",
    "    temp_steel += dtemp\n",
    "    if time <= 10:\n",
    "        print_output()\n",
    "    elif time > czas_analizy * 0.99 and time > czas_analizy - 100:\n",
    "        print_output()\n",
    "    elif time % 300 == 0:\n",
    "        print(\".\")\n",
    "    else: pass\n",
    "    time_list.append(time)\n",
    "    steelTemp_list.append(temp_steel)\n",
    "    time_steelTemp_list.append([time, temp_steel])\n",
    "\n",
    "if profile_type == 'dwuteownik':\n",
    "    file_name = profile_name\n",
    "elif profile_type == 'rura':\n",
    "    file_name = 'rura' + str(grubosc_scianki_rury)\n",
    "else:\n",
    "    file_name = 'something_went_wrong'\n",
    "\n",
    "#np.savetxt('LP_time_' + file_name + '.txt', time_list, fmt='%.1f')\n",
    "#np.savetxt('LP_steelTemp_' + file_name + '.txt', steelTemp_list, fmt='%.1f')\n",
    "\n",
    "\n",
    "if profile_type == 'dwuteownik':\n",
    "    print(\"\\nTemperatura przekroju %s po %.1fs (%.1f minut): \"\n",
    "          \"%.1f stopni Celsjusza\"\n",
    "          % (profile_name, czas_analizy, czas_analizy / 60, temp_steel))\n",
    "elif profile_type == 'rura':\n",
    "    print(\"\\nTemperatura rury o grubosci %.1f mm po %.1fs (%.1f minut): \"\n",
    "          \"%.1f stopni Celsjusza\"\n",
    "          % (grubosc_scianki_rury, czas_analizy, czas_analizy / 60, temp_steel))\n",
    "\n",
    "import matplotlib.pyplot as plt\n",
    "#plt.figure()\n",
    "plt.title('Temperature-time chart')\n",
    "plt.plot(time_list, steelTemp_list)\n",
    "#plt.grid(True)\n",
    "plt.show()\n",
    "\n",
    "if drukuj == 'tak':\n",
    "  for item in time_steelTemp_list:\n",
    "    print(item[0], item[1])"
   ]
  },
  {
   "cell_type": "markdown",
   "metadata": {},
   "source": [
    "## Zabawy z obrazkami:\n",
    "Youtube<br>\n",
    "Ścieżka względna<br>\n",
    "ścieżka bezwzględna<br>\n",
    "obrazek zaszyty w markdown<br>\n",
    "GIF<br>\n",
    "**Jak ładować obrazki do markdown etc.:** https://stackoverflow.com/questions/32370281/how-to-include-image-or-picture-in-jupyter-notebook\n"
   ]
  },
  {
   "cell_type": "code",
   "execution_count": 14,
   "metadata": {},
   "outputs": [
    {
     "data": {
      "image/jpeg": "[encoded data removed]",
      "text/html": [
       "\n",
       "        <iframe\n",
       "            width=\"400\"\n",
       "            height=\"300\"\n",
       "            src=\"https://www.youtube.com/embed/dQw4w9WgXcQ\"\n",
       "            frameborder=\"0\"\n",
       "            allowfullscreen\n",
       "        ></iframe>\n",
       "        "
      ],
      "text/plain": [
       "<IPython.lib.display.YouTubeVideo at 0x73907b0>"
      ]
     },
     "metadata": {},
     "output_type": "display_data"
    }
   ],
   "source": [
    "from IPython.display import YouTubeVideo\n",
    "vid = YouTubeVideo(\"dQw4w9WgXcQ\")\n",
    "display(vid)"
   ]
  },
  {
   "cell_type": "code",
   "execution_count": 15,
   "metadata": {},
   "outputs": [
    {
     "data": {
      "image/png": "[encoded data removed]",
      "text/plain": [
       "<IPython.core.display.Image object>"
      ]
     },
     "execution_count": 15,
     "metadata": {},
     "output_type": "execute_result"
    }
   ],
   "source": [
    "# ścieżka względna\n",
    "from IPython.display import Image\n",
    "Image(\"img.png\")"
   ]
  },
  {
   "cell_type": "code",
   "execution_count": 16,
   "metadata": {},
   "outputs": [
    {
     "data": {
      "text/html": [
       "<img src=\"http://i1.memy.pl/obrazki/f181926927_jak_pacze_to_umiem.jpg\" width=\"200\" height=\"200\"/>"
      ],
      "text/plain": [
       "<IPython.core.display.Image object>"
      ]
     },
     "execution_count": 16,
     "metadata": {},
     "output_type": "execute_result"
    }
   ],
   "source": [
    "# link z internetu\n",
    "from IPython.display import Image\n",
    "Image(url= \"http://i1.memy.pl/obrazki/f181926927_jak_pacze_to_umiem.jpg\", width=200, height=200)"
   ]
  },
  {
   "cell_type": "code",
   "execution_count": 17,
   "metadata": {},
   "outputs": [
    {
     "data": {
      "text/html": [
       "<img src=\"https://media.giphy.com/media/3o7aTskHEUdgCQAXde/giphy.gif\"/>"
      ],
      "text/plain": [
       "<IPython.core.display.Image object>"
      ]
     },
     "execution_count": 17,
     "metadata": {},
     "output_type": "execute_result"
    }
   ],
   "source": [
    "# obsługa GIF - link z internetu\n",
    "from IPython.display import Image\n",
    "Image(url= \"https://media.giphy.com/media/3o7aTskHEUdgCQAXde/giphy.gif\")"
   ]
  },
  {
   "cell_type": "markdown",
   "metadata": {},
   "source": [
    "### ścieżka względna i plik zaszyty w markdown\n",
    "\"Lorem ipsum dolor sit amet, consectetur adipiscing elit, sed do eiusmod tempor incididunt ut labore et dolore magna aliqua. Ut enim ad minim veniam, quis nostrud exercitation ullamco laboris nisi ut aliquip ex ea commodo consequat. Duis aute irure dolor in reprehenderit in voluptate velit esse cillum dolore eu fugiat nulla pariatur. Excepteur sint occaecat cupidatat non proident, sunt in culpa qui officia deserunt mollit anim id est laborum\".\n",
    "![title](img.png)\n",
    "\"Lorem ipsum dolor sit amet, consectetur adipiscing elit, sed do eiusmod tempor incididunt ut labore et dolore magna aliqua. Ut enim ad minim veniam, quis nostrud exercitation ullamco laboris nisi ut aliquip ex ea commodo consequat. Duis aute irure dolor in reprehenderit in voluptate velit esse cillum dolore eu fugiat nulla pariatur. Excepteur sint occaecat cupidatat non proident, sunt in culpa qui officia deserunt mollit anim id est laborum\".\n",
    "<br><br>\n",
    "<img src=\"img.png\",width=250, align=\"left\"><br><br><br><br>\n",
    "\"Lorem ipsum dolor sit amet, consectetur adipiscing elit, sed do eiusmod tempor incididunt ut labore et dolore magna aliqua. Ut enim ad minim veniam, quis nostrud exercitation ullamco laboris nisi ut aliquip ex ea commodo consequat. Duis aute irure dolor in reprehenderit in voluptate velit esse cillum dolore eu fugiat nulla pariatur. Excepteur sint occaecat cupidatat non proident, sunt in culpa qui officia deserunt mollit anim id est laborum\".\n",
    "![title](img.png)\n",
    "\"Lorem ipsum dolor sit amet, consectetur adipiscing elit, sed do eiusmod tempor incididunt ut labore et dolore magna aliqua. Ut enim ad minim veniam, quis nostrud exercitation ullamco laboris nisi ut aliquip ex ea commodo consequat. Duis aute irure dolor in reprehenderit in voluptate velit esse cillum dolore eu fugiat nulla pariatur. Excepteur sint occaecat cupidatat non proident, sunt in culpa qui officia deserunt mollit anim id est laborum\".\n",
    "![Image of Wisdomcat](http://i1.memy.pl/obrazki/f181926927_jak_pacze_to_umiem.jpg)"
   ]
  },
  {
   "cell_type": "markdown",
   "metadata": {},
   "source": [
    "## Dalej nie ma już czego szukać\n",
    "![Image of Wisdomcat](https://media.giphy.com/media/3o7aTskHEUdgCQAXde/giphy.gif)"
   ]
  },
  {
   "cell_type": "markdown",
   "metadata": {},
   "source": [
    "# Hidden agenda"
   ]
  },
  {
   "cell_type": "markdown",
   "metadata": {
    "solution2": "hidden",
    "solution2_first": true
   },
   "source": [
    "# Undamped Forced Motion\n",
    "\n",
    "Each system has a function called `sinusoidal_forcing_response()` that works in a similar fashion to `free_response()`. Two new pieces of information are required: the forcing amplitude, $F_o$, and the forcing frequency, $\\omega$ as the first two arguments. Set $F_o=.0$ N and $\\omega=2\\pi$ rad/s and generate a trajectory for 20 seconds.\n",
    "\n",
    "Each `system` has a `function` called `sinusoidal_forcing_response()` that works in a similar fashion to `free_response()`. Two new pieces of information are required: the forcing amplitude, $F_o$, and the forcing frequency, $\\omega$ as the first two arguments. Set $F_o=.0$ N and $\\omega=2\\pi$ rad/s and generate a trajectory for 20 seconds."
   ]
  },
  {
   "cell_type": "code",
   "execution_count": 18,
   "metadata": {
    "solution2": "hidden"
   },
   "outputs": [
    {
     "ename": "NameError",
     "evalue": "name 'sys' is not defined",
     "output_type": "error",
     "traceback": [
      "\u001b[1;31m---------------------------------------------------------------------------\u001b[0m",
      "\u001b[1;31mNameError\u001b[0m                                 Traceback (most recent call last)",
      "\u001b[1;32m<ipython-input-18-c9ada41d6d65>\u001b[0m in \u001b[0;36m<module>\u001b[1;34m()\u001b[0m\n\u001b[1;32m----> 1\u001b[1;33m \u001b[0mtraj\u001b[0m \u001b[1;33m=\u001b[0m \u001b[0msys\u001b[0m\u001b[1;33m.\u001b[0m\u001b[0msinusoidal_forcing_response\u001b[0m\u001b[1;33m(\u001b[0m\u001b[1;36m1.0\u001b[0m\u001b[1;33m,\u001b[0m \u001b[1;36m2\u001b[0m \u001b[1;33m*\u001b[0m \u001b[0mnp\u001b[0m\u001b[1;33m.\u001b[0m\u001b[0mpi\u001b[0m\u001b[1;33m,\u001b[0m \u001b[1;36m20.0\u001b[0m\u001b[1;33m)\u001b[0m\u001b[1;33m\u001b[0m\u001b[0m\n\u001b[0m",
      "\u001b[1;31mNameError\u001b[0m: name 'sys' is not defined"
     ]
    }
   ],
   "source": [
    "traj = sys.sinusoidal_forcing_response(1.0, 2 * np.pi, 20.0)"
   ]
  },
  {
   "cell_type": "code",
   "execution_count": null,
   "metadata": {},
   "outputs": [],
   "source": [
    "# write your answer here"
   ]
  }
 ],
 "metadata": {
  "celltoolbar": "Edit Metadata",
  "kernelspec": {
   "display_name": "Python 3",
   "language": "python",
   "name": "python3"
  },
  "language_info": {
   "codemirror_mode": {
    "name": "ipython",
    "version": 3
   },
   "file_extension": ".py",
   "mimetype": "text/x-python",
   "name": "python",
   "nbconvert_exporter": "python",
   "pygments_lexer": "ipython3",
   "version": "3.4.4"
  }
 },
 "nbformat": 4,
 "nbformat_minor": 2
}
